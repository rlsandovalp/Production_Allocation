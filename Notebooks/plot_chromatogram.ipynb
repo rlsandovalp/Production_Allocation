{
 "cells": [
  {
   "cell_type": "code",
   "execution_count": 1,
   "metadata": {},
   "outputs": [],
   "source": [
    "import pandas as pd\n",
    "import matplotlib.pyplot as plt\n",
    "import numpy as np\n",
    "from PA_functions import preprocess"
   ]
  },
  {
   "cell_type": "code",
   "execution_count": 2,
   "metadata": {},
   "outputs": [],
   "source": [
    "data = '../Data_Base/NGS_J19_DRK/'                                 \n",
    "mix = 'NGS_J19_DRK'\n",
    "fluid = 'M1'\n",
    "max_cv_peaks = 30                           # Max intrasample CV for peaks\n",
    "max_cv_samples = 10                         # Max intrasample CV for repetitions\n",
    "pp = 0                                      # Preprocess? (1 Yes, 0 No)\n",
    "end_members = 3\n",
    "\n",
    "if pp == 1: \n",
    "    peaks = pd.read_csv(data+\"/\"+mix+\".csv\").set_index('Mix')\n",
    "    peaks = preprocess(peaks,pp,max_cv_peaks,max_cv_samples)\n",
    "else:\n",
    "    peaks = pd.read_csv(data+\"/\"+mix+\".csv\")\n",
    "\n",
    "dataset = peaks.set_index('Mix')\n",
    "subset = dataset.loc[fluid].values"
   ]
  },
  {
   "cell_type": "code",
   "execution_count": 6,
   "metadata": {},
   "outputs": [
    {
     "data": {
      "image/png": "[encoded data removed]",
      "text/plain": [
       "<Figure size 350x250 with 1 Axes>"
      ]
     },
     "metadata": {},
     "output_type": "display_data"
    }
   ],
   "source": [
    "plt.style.use('stylesheet.mpltstyle_chromatogram')\n",
    "fig, ax = plt.subplots(1,1, figsize = (3.5, 2.5))\n",
    "\n",
    "width = 0.12\n",
    "for i in range(-2,3):\n",
    "    ax.bar(np.linspace(1+i*width,subset.shape[1]+i*width,subset.shape[1]), subset[i+2,:], label = 'Replicate '+str(i+3), linewidth=0.5, width = width)\n",
    "\n",
    "ax.set_yscale('log')\n",
    "ax.set_ylim(1E4,1E7)\n",
    "ax.set_ylabel('Peak height (mV)')\n",
    "ax.set_xlabel('Peak number')\n",
    "# ax.legend()\n",
    "\n",
    "plt.savefig('../Figures/chromatogram.pdf')\n",
    "plt.show()"
   ]
  }
 ],
 "metadata": {
  "kernelspec": {
   "display_name": "Python 3",
   "language": "python",
   "name": "python3"
  },
  "language_info": {
   "codemirror_mode": {
    "name": "ipython",
    "version": 3
   },
   "file_extension": ".py",
   "mimetype": "text/x-python",
   "name": "python",
   "nbconvert_exporter": "python",
   "pygments_lexer": "ipython3",
   "version": "3.10.11"
  },
  "orig_nbformat": 4
 },
 "nbformat": 4,
 "nbformat_minor": 2
}
