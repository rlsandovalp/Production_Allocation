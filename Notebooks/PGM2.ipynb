{
 "cells": [
  {
   "cell_type": "code",
   "execution_count": 1,
   "metadata": {},
   "outputs": [],
   "source": [
    "import numpy as np\n",
    "import matplotlib.pyplot as plt\n",
    "from scipy.optimize import minimize\n",
    "from scipy.optimize import Bounds\n",
    "import pandas as pd\n",
    "from itertools import combinations\n",
    "\n",
    "from PA_functions import plot_results, preprocess_our, ouropt_1, ouropt_2, convert_operations, preprocess_our\n",
    "from scipy.optimize import LinearConstraint\n",
    "from scipy.optimize import fsolve\n",
    "from scipy import stats as st"
   ]
  },
  {
   "cell_type": "markdown",
   "metadata": {},
   "source": [
    "### Select files and define optimization settigs"
   ]
  },
  {
   "cell_type": "code",
   "execution_count": 2,
   "metadata": {},
   "outputs": [],
   "source": [
    "folder = './../Data_Base/Maria/'                                 \n",
    "file = 'Maria_placido'\n",
    "\n",
    "use_all_peaks = 1                           # Use all peaks? (1 Yes, 0 No)\n",
    "peaks_to_analyze = 12                       # How many peaks use?\n",
    "\n",
    "delta = 0.05                        # Expected maximum deviation from 1/1 of the mass of each EM injected in the device\n",
    "max_cv = 5                          # Max allowed CV for repetitions\n",
    "cv = 0.5                            # Initial guess of the CV"
   ]
  },
  {
   "cell_type": "markdown",
   "metadata": {},
   "source": [
    "#### Count end members and ratios"
   ]
  },
  {
   "cell_type": "code",
   "execution_count": 3,
   "metadata": {},
   "outputs": [
    {
     "name": "stdout",
     "output_type": "stream",
     "text": [
      "You have 6 End Members and 16 Mixtures\n"
     ]
    }
   ],
   "source": [
    "dataset = pd.read_csv(folder+'/'+file+\".csv\", sep = ',').set_index('Mix')\n",
    "dataset['Replicate'] = dataset.groupby(level=0).cumcount() + 1\n",
    "dataset.reset_index(inplace=True)\n",
    "dataset.set_index(['Mix', 'Replicate'], inplace=True)\n",
    "\n",
    "unique_fluids = dataset.index.get_level_values(0).unique()\n",
    "nEM = unique_fluids.str.startswith('EM').sum()\n",
    "nMix = unique_fluids.str.startswith('M').sum()\n",
    "\n",
    "print('You have '+str(nEM)+' End Members and '+str(nMix)+' Mixtures')"
   ]
  },
  {
   "cell_type": "markdown",
   "metadata": {},
   "source": [
    "#### Preprocessing"
   ]
  },
  {
   "cell_type": "code",
   "execution_count": 4,
   "metadata": {},
   "outputs": [
    {
     "name": "stdout",
     "output_type": "stream",
     "text": [
      "The following 54 replicates were deleted:\n",
      "[('M10', 1), ('M10', 5), ('M6', 1), ('M6', 2), ('EM5', 10), ('EM5', 9), ('EM5', 7), ('EM5', 1), ('EM5', 8), ('EM5', 2), ('M4', 5), ('M4', 4), ('M4', 1), ('M4', 2), ('M7', 2), ('M7', 3), ('M7', 4), ('M9', 1), ('M9', 5), ('M9', 3), ('EM4', 7), ('EM4', 4), ('EM4', 8), ('EM4', 3), ('EM4', 5), ('EM4', 6), ('M11', 1), ('EM6', 9), ('M1', 1), ('M1', 3), ('M1', 2), ('M1', 4), ('M12', 5), ('M14', 1), ('M14', 5), ('M14', 4), ('M14', 2), ('M7', 1), ('EM2', 4), ('EM4', 1), ('M3', 5), ('M3', 4), ('M13', 1), ('M9', 2), ('EM6', 2), ('EM6', 1), ('EM3', 4), ('M5', 3), ('M5', 2), ('M5', 1), ('M5', 4), ('EM5', 4), ('EM5', 3), ('EM5', 5)]\n",
      "\n",
      "Careful! Only one replicate per fluid in the following fluids:\n",
      "['EM4' 'EM5' 'M1' 'M14' 'M4' 'M5' 'M7' 'M9']\n",
      "\n",
      "This indicates that the dataset has problems of repeatability\n"
     ]
    }
   ],
   "source": [
    "todo = dataset.iloc[:,:].copy()\n",
    "replicates_deleted = []\n",
    "\n",
    "max_cv_replicates_fluids = ((todo.groupby(level=0).std(ddof = 1))*100/todo.groupby(level=0).mean()).max(axis = 1)\n",
    "\n",
    "while len(max_cv_replicates_fluids[max_cv_replicates_fluids>max_cv]) != 0:\n",
    "    max_cv_replicates_peaks = ((todo.groupby(level=0).std(ddof = 1))*100/todo.groupby(level=0).mean()).max(axis = 0)\n",
    "    bad_columns = np.array(max_cv_replicates_peaks[max_cv_replicates_peaks>max_cv].index, dtype = int)\n",
    "    max_cv_replicates_fluids = ((todo.groupby(level=0).std(ddof = 1))*100/todo.groupby(level=0).mean()).max(axis = 1)\n",
    "    mixture_to_check = max_cv_replicates_fluids.idxmax()\n",
    "\n",
    "    repetition_to_drop = abs(todo.loc[mixture_to_check]-todo.loc[mixture_to_check].median())[bad_columns.astype(str)].idxmax(axis = 0).value_counts().idxmax()\n",
    "    todo.drop((mixture_to_check, repetition_to_drop), inplace = True)\n",
    "    replicates_deleted.append((mixture_to_check, repetition_to_drop))\n",
    "    max_cv_replicates_fluids = ((todo.groupby(level=0).std(ddof = 1))*100/todo.groupby(level=0).mean()).max(axis = 1)\n",
    "\n",
    "if len(replicates_deleted) == 0:\n",
    "    print('No replicates were deleted, seems that this is a good dataset!')\n",
    "else: \n",
    "    print('The following '+str(len(replicates_deleted))+' replicates were deleted:')\n",
    "    print(replicates_deleted)\n",
    "\n",
    "aaa = todo.groupby(level=0).count().iloc[:,0] == 1\n",
    "if len(aaa[aaa]) != 0:\n",
    "    print('\\nCareful! Only one replicate per fluid in the following fluids:')\n",
    "    print(aaa[aaa].index.values)\n",
    "\n",
    "    print('\\nThis indicates that the dataset has problems of repeatability')"
   ]
  },
  {
   "cell_type": "code",
   "execution_count": 5,
   "metadata": {},
   "outputs": [],
   "source": [
    "dataset = todo.copy().reset_index()\n",
    "dataset = dataset.drop(columns = 'Replicate').set_index('Mix')\n",
    "\n",
    "if use_all_peaks == 0:\n",
    "    peaks = dataset.iloc[:,0:peaks_to_analyze+1]\n",
    "else:\n",
    "    peaks = dataset.iloc[:,:]"
   ]
  },
  {
   "cell_type": "markdown",
   "metadata": {},
   "source": [
    "#### Where are the operations? Convert the operations from the text file to an array easier to manipulate"
   ]
  },
  {
   "cell_type": "code",
   "execution_count": 6,
   "metadata": {},
   "outputs": [],
   "source": [
    "operations = 'operations_all.txt'\n",
    "if use_all_peaks == 0: \n",
    "    operations = 'operations'+str(peaks_to_analyze)+'.txt'\n",
    "operations_path=folder+'/'+operations\n",
    "def_operations, tipo = convert_operations(operations_path)"
   ]
  },
  {
   "cell_type": "markdown",
   "metadata": {},
   "source": [
    "#### Define end members and mixtures list with names, then create space to store results"
   ]
  },
  {
   "cell_type": "code",
   "execution_count": 7,
   "metadata": {},
   "outputs": [],
   "source": [
    "end_members = ['EM'+str(x+1) for x in range(nEM)]\n",
    "mixtures = ['M' + str(x+1) for x in range(nMix)]\n",
    "\n",
    "# Create an array to storage the results\n",
    "X_todos = np.zeros((nEM, nMix))"
   ]
  },
  {
   "cell_type": "markdown",
   "metadata": {},
   "source": [
    "#### Optimization Algorithm (this is the core of the code)"
   ]
  },
  {
   "cell_type": "code",
   "execution_count": 8,
   "metadata": {},
   "outputs": [
    {
     "name": "stdout",
     "output_type": "stream",
     "text": [
      "Working on mixture M1\n"
     ]
    },
    {
     "name": "stderr",
     "output_type": "stream",
     "text": [
      "C:\\Users\\Leonardo\\AppData\\Local\\Packages\\PythonSoftwareFoundation.Python.3.10_qbz5n2kfra8p0\\LocalCache\\local-packages\\Python310\\site-packages\\scipy\\optimize\\_optimize.py:353: RuntimeWarning: Values in x were outside bounds during a minimize step, clipping to bounds\n",
      "  warnings.warn(\"Values in x were outside bounds during a \"\n"
     ]
    },
    {
     "name": "stdout",
     "output_type": "stream",
     "text": [
      "Working on mixture M2\n",
      "Working on mixture M3\n",
      "Working on mixture M4\n",
      "Working on mixture M5\n",
      "Working on mixture M6\n",
      "Working on mixture M7\n",
      "Working on mixture M8\n",
      "Working on mixture M9\n",
      "Working on mixture M10\n",
      "Working on mixture M11\n",
      "Working on mixture M12\n",
      "Working on mixture M13\n",
      "Working on mixture M14\n",
      "Working on mixture M15\n",
      "Working on mixture M16\n"
     ]
    }
   ],
   "source": [
    "for i in range(nMix):\n",
    "    # Define the unknown mixtures, create end members array, create unknown mixtures array\n",
    "    unknown_mixtures = mixtures[i]\n",
    "    print('Working on mixture '+unknown_mixtures)\n",
    "\n",
    "    # Average chromatograms\n",
    "    em_peaks_mean = dataset.loc[end_members].groupby(level = 0).mean()\n",
    "    um_peaks_mean = dataset.loc[unknown_mixtures].groupby(level = 0).mean()\n",
    "    if dataset.loc[unknown_mixtures].shape[0] == dataset.loc[unknown_mixtures].size:   # If there is only one repetition\n",
    "        um_peaks_mean = dataset.loc[unknown_mixtures]\n",
    "\n",
    "    # Define vector of unknowns and initialize its values\n",
    "    #give an initial value to CV, and define bounds for the optimization\n",
    "    unknowns = np.ones(2*nEM-1)  # [X1, X2, X3, ..., MR1, MR2] \n",
    "    lb = np.ones((nEM)+nEM-1)*(1-delta)\n",
    "    ub = np.ones((nEM)+nEM-1)*(1+delta)\n",
    "    lc = np.zeros((nEM)+nEM-1)\n",
    "    unknowns[:-(nEM-1)] = 100/nEM\n",
    "    lb[:-(nEM-1)] = 0\n",
    "    ub[:-(nEM-1)] = 100\n",
    "    lc[:-(nEM-1)] = 1\n",
    "    \n",
    "    bounds_x = Bounds(lb, ub)\n",
    "    bounds_cv = [(0.038,1)]\n",
    "    linear_constraint = LinearConstraint(lc.tolist(), [100], [100])\n",
    "\n",
    "    C = 10\n",
    "    while C > 0.01:\n",
    "    # Minimize objective function to obtain values of unknowns\n",
    "        res = minimize(ouropt_1, unknowns, method = 'SLSQP', constraints=linear_constraint, bounds = bounds_x, args = (def_operations, em_peaks_mean.values, um_peaks_mean.values, tipo, cv, nEM))\n",
    "        unknowns = res.x\n",
    "        C1 = cv\n",
    "\n",
    "        # Update the value of the cv considering the values of the unknowns obtained in the previous step\n",
    "        res = minimize(ouropt_2, cv, method = 'SLSQP', bounds = bounds_cv, args = (unknowns, def_operations, em_peaks_mean.values, um_peaks_mean.values, tipo, nEM))\n",
    "        cv = res.x \n",
    "        C = abs(C1-cv)\n",
    "\n",
    "    for j in range(nEM):\n",
    "        X_todos[j,i] = unknowns[j]"
   ]
  },
  {
   "cell_type": "markdown",
   "metadata": {},
   "source": [
    "#### Visualize Results"
   ]
  },
  {
   "cell_type": "code",
   "execution_count": 11,
   "metadata": {},
   "outputs": [
    {
     "data": {
      "text/plain": [
       "Text(0.5, 0, 'Mixtures')"
      ]
     },
     "execution_count": 11,
     "metadata": {},
     "output_type": "execute_result"
    },
    {
     "data": {
      "image/png": "[encoded data removed]",
      "text/plain": [
       "<Figure size 1000x500 with 1 Axes>"
      ]
     },
     "metadata": {},
     "output_type": "display_data"
    }
   ],
   "source": [
    "fig, ax = plt.subplots(1,1, figsize = (10,5))\n",
    "\n",
    "bottom = np.zeros(nMix)\n",
    "for i in range(nEM):\n",
    "    ax.bar(np.arange(1,nMix+1), X_todos[i,:], label = end_members[i], bottom = bottom)\n",
    "    bottom += X_todos[i,:]\n",
    "ax.set_xticks(np.arange(1,nMix+1))\n",
    "ax.set_xticklabels(mixtures)\n",
    "ax.legend()\n",
    "ax.set_ylabel('Fraction [%]')\n",
    "ax.set_xlabel('Mixtures')\n"
   ]
  },
  {
   "cell_type": "markdown",
   "metadata": {},
   "source": [
    "#### Results in numbers (they may not sum 100 due to decimal truncation, if you want the decimal figures you can check X_todos variable)"
   ]
  },
  {
   "cell_type": "code",
   "execution_count": 12,
   "metadata": {},
   "outputs": [
    {
     "name": "stdout",
     "output_type": "stream",
     "text": [
      "M1 [41 24  0  0  0 33]\n",
      "M2 [13 22  0 24  0 38]\n",
      "M3 [ 6 20  0 15  0 56]\n",
      "M4 [  0   0   0   0   0 100]\n",
      "M5 [ 0  0  3 44 11 40]\n",
      "M6 [ 0  0  4 34  4 56]\n",
      "M7 [ 6  9 18 13 22 30]\n",
      "M8 [ 9  5  0 30  2 51]\n",
      "M9 [ 0  2 29 34  3 29]\n",
      "M10 [ 8 11  0 27 17 35]\n",
      "M11 [10 13  0 24 10 41]\n",
      "M12 [ 6 17  0 12 14 48]\n",
      "M13 [10 12  0 16 21 39]\n",
      "M14 [ 3 10 19 33  0 33]\n",
      "M15 [ 5  6 20  1  0 66]\n",
      "M16 [ 8 11 17 15 21 25]\n"
     ]
    }
   ],
   "source": [
    "for i in range(nMix):\n",
    "    print(mixtures[i], X_todos[:,i].astype(int))"
   ]
  }
 ],
 "metadata": {
  "kernelspec": {
   "display_name": "Python 3",
   "language": "python",
   "name": "python3"
  },
  "language_info": {
   "codemirror_mode": {
    "name": "ipython",
    "version": 3
   },
   "file_extension": ".py",
   "mimetype": "text/x-python",
   "name": "python",
   "nbconvert_exporter": "python",
   "pygments_lexer": "ipython3",
   "version": "3.10.11"
  }
 },
 "nbformat": 4,
 "nbformat_minor": 2
}
